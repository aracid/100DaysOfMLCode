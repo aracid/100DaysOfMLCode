{
 "cells": [
  {
   "cell_type": "code",
   "execution_count": 2,
   "id": "ce6cf050",
   "metadata": {},
   "outputs": [],
   "source": [
    "import os\n",
    "import numpy as np\n",
    "import torch\n"
   ]
  },
  {
   "cell_type": "code",
   "execution_count": 3,
   "id": "57ce59c9",
   "metadata": {},
   "outputs": [],
   "source": [
    "X = torch.tensor([1,2,3,4,5,6,7,8], dtype=torch.float32)\n",
    "Y = torch.tensor([2,4,6,8,10,12,14,16], dtype=torch.float32)\n",
    "\n",
    "w = torch.tensor(0.0, dtype=torch.float32, requires_grad=True)\n"
   ]
  },
  {
   "cell_type": "code",
   "execution_count": 19,
   "id": "9a6df881",
   "metadata": {},
   "outputs": [],
   "source": [
    "def forward (x):\n",
    "    return w * x"
   ]
  },
  {
   "cell_type": "code",
   "execution_count": 6,
   "id": "0a7d66d6",
   "metadata": {},
   "outputs": [],
   "source": [
    "def loss(y, y_pred):\n",
    "    return ((y_pred-y)**2).mean()"
   ]
  },
  {
   "cell_type": "code",
   "execution_count": 7,
   "id": "5eed4a2e",
   "metadata": {},
   "outputs": [],
   "source": [
    "X_test = 5.0"
   ]
  },
  {
   "cell_type": "code",
   "execution_count": 13,
   "id": "6a6f4116",
   "metadata": {},
   "outputs": [
    {
     "name": "stdout",
     "output_type": "stream",
     "text": [
      "prediction before training f(5.0) = 0.000\n"
     ]
    }
   ],
   "source": [
    "print (f\"prediction before training f({X_test}) = {foward(X_test).item():.3f}\")"
   ]
  },
  {
   "cell_type": "code",
   "execution_count": 22,
   "id": "f13f9cd7",
   "metadata": {},
   "outputs": [
    {
     "name": "stdout",
     "output_type": "stream",
     "text": [
      "epoch10 : w = 2.000, loss = 0.000\n",
      "epoch20 : w = 2.000, loss = 0.000\n",
      "epoch30 : w = 2.000, loss = 0.000\n",
      "epoch40 : w = 2.000, loss = 0.000\n",
      "epoch50 : w = 2.000, loss = 0.000\n",
      "epoch60 : w = 2.000, loss = 0.000\n",
      "epoch70 : w = 2.000, loss = 0.000\n",
      "epoch80 : w = 2.000, loss = 0.000\n",
      "epoch90 : w = 2.000, loss = 0.000\n",
      "epoch100 : w = 2.000, loss = 0.000\n",
      "Prediction after training : f(5.0) = 10.000\n"
     ]
    }
   ],
   "source": [
    "# Training\n",
    "\n",
    "learning_rate = 0.01\n",
    "n_epochs = 100\n",
    "\n",
    "for epoch in range(n_epochs):\n",
    "    # predict = forward pass\n",
    "    y_pred = forward(X)\n",
    "    \n",
    "    # loss\n",
    "    \n",
    "    l = loss(Y, y_pred)\n",
    "    \n",
    "    l.backward()\n",
    "    \n",
    "    # update weights\n",
    "    # w.data = w.data - learning_rate * w.grad\n",
    "    with torch.no_grad():\n",
    "        w -= learning_rate * w.grad\n",
    "    \n",
    "    # zero the gradients after updating\n",
    "    \n",
    "    w.grad.zero_()\n",
    "    \n",
    "    if (epoch+1) % 10 == 0:\n",
    "        print (f'epoch{epoch+1} : w = {w.item():.3f}, loss = {l.item():.3f}')\n",
    "\n",
    "print (f'Prediction after training : f({X_test}) = {forward(X_test).item():.3f}')\n",
    "        "
   ]
  },
  {
   "cell_type": "code",
   "execution_count": null,
   "id": "63c34582",
   "metadata": {},
   "outputs": [],
   "source": []
  }
 ],
 "metadata": {
  "kernelspec": {
   "display_name": "Python 3 (ipykernel)",
   "language": "python",
   "name": "python3"
  },
  "language_info": {
   "codemirror_mode": {
    "name": "ipython",
    "version": 3
   },
   "file_extension": ".py",
   "mimetype": "text/x-python",
   "name": "python",
   "nbconvert_exporter": "python",
   "pygments_lexer": "ipython3",
   "version": "3.10.11"
  }
 },
 "nbformat": 4,
 "nbformat_minor": 5
}
